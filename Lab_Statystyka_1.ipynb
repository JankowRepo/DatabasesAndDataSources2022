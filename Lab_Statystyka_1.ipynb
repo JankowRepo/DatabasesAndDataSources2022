{
 "cells": [
  {
   "cell_type": "code",
   "execution_count": 28,
   "metadata": {
    "collapsed": true
   },
   "outputs": [],
   "source": [
    "import pandas as pd\n",
    "import numpy as np\n",
    "import matplotlib.pyplot as plt"
   ]
  },
  {
   "cell_type": "code",
   "execution_count": 9,
   "outputs": [
    {
     "data": {
      "text/plain": "       iso_numeric         year  e_rr_pct_new  e_rr_pct_new_lo  \\\ncount  1491.000000  1491.000000   1491.000000      1491.000000   \nmean    432.215962  2018.000000      3.896385         2.693957   \nstd     252.680328     2.000671      6.091549         6.029206   \nmin       4.000000  2015.000000      0.250000         0.100000   \n25%     212.000000  2016.000000      1.400000         0.340000   \n50%     434.000000  2018.000000      2.300000         0.880000   \n75%     643.000000  2020.000000      3.400000         2.000000   \nmax     894.000000  2021.000000     45.000000        41.000000   \n\n       e_rr_pct_new_hi  e_rr_pct_ret  e_rr_pct_ret_lo  e_rr_pct_ret_hi  \\\ncount      1491.000000   1491.000000      1491.000000      1491.000000   \nmean          6.577787     17.071496         9.679611        31.596043   \nstd           6.790237     13.267110        13.169322        21.302995   \nmin           0.430000      1.100000         0.200000         3.200000   \n25%           2.400000      8.400000         1.500000        14.000000   \n50%           4.200000     14.000000         4.400000        26.000000   \n75%           8.400000     20.000000        11.000000        48.000000   \nmax          49.000000     76.000000        69.000000        91.000000   \n\n        e_inc_rr_num  e_inc_rr_num_lo  e_inc_rr_num_hi  \ncount    1491.000000      1491.000000      1491.000000  \nmean     2148.600939      1202.430584      3150.439302  \nstd     10349.915499      6613.101673     14310.469726  \nmin         0.000000         0.000000         0.000000  \n25%         4.000000         0.000000         7.000000  \n50%        74.000000        12.000000       120.000000  \n75%       670.000000       220.000000      1400.000000  \nmax    149000.000000     94000.000000    223000.000000  ",
      "text/html": "<div>\n<style scoped>\n    .dataframe tbody tr th:only-of-type {\n        vertical-align: middle;\n    }\n\n    .dataframe tbody tr th {\n        vertical-align: top;\n    }\n\n    .dataframe thead th {\n        text-align: right;\n    }\n</style>\n<table border=\"1\" class=\"dataframe\">\n  <thead>\n    <tr style=\"text-align: right;\">\n      <th></th>\n      <th>iso_numeric</th>\n      <th>year</th>\n      <th>e_rr_pct_new</th>\n      <th>e_rr_pct_new_lo</th>\n      <th>e_rr_pct_new_hi</th>\n      <th>e_rr_pct_ret</th>\n      <th>e_rr_pct_ret_lo</th>\n      <th>e_rr_pct_ret_hi</th>\n      <th>e_inc_rr_num</th>\n      <th>e_inc_rr_num_lo</th>\n      <th>e_inc_rr_num_hi</th>\n    </tr>\n  </thead>\n  <tbody>\n    <tr>\n      <th>count</th>\n      <td>1491.000000</td>\n      <td>1491.000000</td>\n      <td>1491.000000</td>\n      <td>1491.000000</td>\n      <td>1491.000000</td>\n      <td>1491.000000</td>\n      <td>1491.000000</td>\n      <td>1491.000000</td>\n      <td>1491.000000</td>\n      <td>1491.000000</td>\n      <td>1491.000000</td>\n    </tr>\n    <tr>\n      <th>mean</th>\n      <td>432.215962</td>\n      <td>2018.000000</td>\n      <td>3.896385</td>\n      <td>2.693957</td>\n      <td>6.577787</td>\n      <td>17.071496</td>\n      <td>9.679611</td>\n      <td>31.596043</td>\n      <td>2148.600939</td>\n      <td>1202.430584</td>\n      <td>3150.439302</td>\n    </tr>\n    <tr>\n      <th>std</th>\n      <td>252.680328</td>\n      <td>2.000671</td>\n      <td>6.091549</td>\n      <td>6.029206</td>\n      <td>6.790237</td>\n      <td>13.267110</td>\n      <td>13.169322</td>\n      <td>21.302995</td>\n      <td>10349.915499</td>\n      <td>6613.101673</td>\n      <td>14310.469726</td>\n    </tr>\n    <tr>\n      <th>min</th>\n      <td>4.000000</td>\n      <td>2015.000000</td>\n      <td>0.250000</td>\n      <td>0.100000</td>\n      <td>0.430000</td>\n      <td>1.100000</td>\n      <td>0.200000</td>\n      <td>3.200000</td>\n      <td>0.000000</td>\n      <td>0.000000</td>\n      <td>0.000000</td>\n    </tr>\n    <tr>\n      <th>25%</th>\n      <td>212.000000</td>\n      <td>2016.000000</td>\n      <td>1.400000</td>\n      <td>0.340000</td>\n      <td>2.400000</td>\n      <td>8.400000</td>\n      <td>1.500000</td>\n      <td>14.000000</td>\n      <td>4.000000</td>\n      <td>0.000000</td>\n      <td>7.000000</td>\n    </tr>\n    <tr>\n      <th>50%</th>\n      <td>434.000000</td>\n      <td>2018.000000</td>\n      <td>2.300000</td>\n      <td>0.880000</td>\n      <td>4.200000</td>\n      <td>14.000000</td>\n      <td>4.400000</td>\n      <td>26.000000</td>\n      <td>74.000000</td>\n      <td>12.000000</td>\n      <td>120.000000</td>\n    </tr>\n    <tr>\n      <th>75%</th>\n      <td>643.000000</td>\n      <td>2020.000000</td>\n      <td>3.400000</td>\n      <td>2.000000</td>\n      <td>8.400000</td>\n      <td>20.000000</td>\n      <td>11.000000</td>\n      <td>48.000000</td>\n      <td>670.000000</td>\n      <td>220.000000</td>\n      <td>1400.000000</td>\n    </tr>\n    <tr>\n      <th>max</th>\n      <td>894.000000</td>\n      <td>2021.000000</td>\n      <td>45.000000</td>\n      <td>41.000000</td>\n      <td>49.000000</td>\n      <td>76.000000</td>\n      <td>69.000000</td>\n      <td>91.000000</td>\n      <td>149000.000000</td>\n      <td>94000.000000</td>\n      <td>223000.000000</td>\n    </tr>\n  </tbody>\n</table>\n</div>"
     },
     "execution_count": 9,
     "metadata": {},
     "output_type": "execute_result"
    }
   ],
   "source": [
    "df = pd.read_csv('MDR_RR_TB_burden_estimates_2023-01-20.csv')\n",
    "df.describe()"
   ],
   "metadata": {
    "collapsed": false,
    "pycharm": {
     "name": "#%%\n"
    }
   }
  },
  {
   "cell_type": "code",
   "execution_count": 16,
   "outputs": [
    {
     "name": "stdout",
     "output_type": "stream",
     "text": [
      "Wariancja wynosi: 269.28\n",
      "Odchylenie standardowe wynosi: 16.41\n"
     ]
    }
   ],
   "source": [
    "import statistics\n",
    "df = pd.read_csv('Wzrost.csv')\n",
    "list_of_values = [float(x) for x in df]\n",
    "print(\"Wariancja wynosi: \" + str(round(statistics.variance(list_of_values),2)))\n",
    "print(\"Odchylenie standardowe wynosi: \" + str(round(statistics.stdev(list_of_values),2)))"
   ],
   "metadata": {
    "collapsed": false,
    "pycharm": {
     "name": "#%%\n"
    }
   }
  },
  {
   "cell_type": "code",
   "execution_count": 23,
   "outputs": [
    {
     "name": "stdout",
     "output_type": "stream",
     "text": [
      "Średnia:  5.81\n",
      "Mediana:  0.6\n",
      "Wariancja:  0.14\n"
     ]
    }
   ],
   "source": [
    "from scipy import stats\n",
    "df = pd.read_csv('iris.csv', sep=',')\n",
    "\n",
    "df=df.dropna()\n",
    "\n",
    "mean = stats.describe(df['Sepallength']).mean\n",
    "print(\"Średnia: \", round(mean,2))\n",
    "\n",
    "median = stats.median_abs_deviation(df['Sepallength'])\n",
    "print(\"Mediana: \", round(median,2))\n",
    "\n",
    "variation = stats.variation(df['Sepallength'])\n",
    "print(\"Wariancja: \", round(variation,2))"
   ],
   "metadata": {
    "collapsed": false,
    "pycharm": {
     "name": "#%%\n"
    }
   }
  },
  {
   "cell_type": "code",
   "execution_count": 27,
   "outputs": [
    {
     "name": "stdout",
     "output_type": "stream",
     "text": [
      "Średnia dla VIQ:  112.35\n",
      "Kobiety:  20\n",
      "Mężczyźni:  20\n"
     ]
    }
   ],
   "source": [
    "df = pd.read_csv(\"brain_size.csv\", sep=';')\n",
    "mean = df[\"VIQ\"].mean()\n",
    "\n",
    "print(\"Średnia dla VIQ: \",mean)\n",
    "\n",
    "print(\"Kobiety: \",df[df[\"Gender\"] == \"Female\"].shape[0])\n",
    "print(\"Mężczyźni: \",df[df[\"Gender\"] == \"Male\"].shape[0])"
   ],
   "metadata": {
    "collapsed": false,
    "pycharm": {
     "name": "#%%\n"
    }
   }
  },
  {
   "cell_type": "code",
   "execution_count": 30,
   "outputs": [
    {
     "data": {
      "text/plain": "<Figure size 640x480 with 1 Axes>",
      "image/png": "[encoded data removed]"
     },
     "metadata": {},
     "output_type": "display_data"
    }
   ],
   "source": [
    "df[\"VIQ\"].plot.hist()\n",
    "\n",
    "df[\"PIQ\"].plot.hist()\n",
    "\n",
    "df[\"FSIQ\"].plot.hist()\n",
    "\n",
    "plt.show()"
   ],
   "metadata": {
    "collapsed": false,
    "pycharm": {
     "name": "#%%\n"
    }
   }
  },
  {
   "cell_type": "code",
   "execution_count": 29,
   "outputs": [
    {
     "data": {
      "text/plain": "<Figure size 640x480 with 1 Axes>",
      "image/png": "[encoded data removed]"
     },
     "metadata": {},
     "output_type": "display_data"
    }
   ],
   "source": [
    "df2 = df[df[\"Gender\"] == \"Female\"]\n",
    "df2[\"VIQ\"].plot.hist()\n",
    "\n",
    "df2[\"PIQ\"].plot.hist()\n",
    "\n",
    "df2[\"FSIQ\"].plot.hist()\n",
    "\n",
    "plt.show()"
   ],
   "metadata": {
    "collapsed": false,
    "pycharm": {
     "name": "#%%\n"
    }
   }
  }
 ],
 "metadata": {
  "kernelspec": {
   "display_name": "Python 3",
   "language": "python",
   "name": "python3"
  },
  "language_info": {
   "codemirror_mode": {
    "name": "ipython",
    "version": 2
   },
   "file_extension": ".py",
   "mimetype": "text/x-python",
   "name": "python",
   "nbconvert_exporter": "python",
   "pygments_lexer": "ipython2",
   "version": "2.7.6"
  }
 },
 "nbformat": 4,
 "nbformat_minor": 0
}